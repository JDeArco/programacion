{
  "nbformat": 4,
  "nbformat_minor": 0,
  "metadata": {
    "colab": {
      "provenance": [],
      "history_visible": true
    },
    "kernelspec": {
      "name": "python3",
      "display_name": "Python 3"
    },
    "language_info": {
      "name": "python"
    }
  },
  "cells": [
    {
      "cell_type": "code",
      "execution_count": 1,
      "metadata": {
        "id": "RyIKBEO04gsN",
        "colab": {
          "base_uri": "https://localhost:8080/",
          "height": 519
        },
        "outputId": "c0b188a1-bf1d-469d-e446-8de3efa0b2b0"
      },
      "outputs": [
        {
          "output_type": "stream",
          "name": "stderr",
          "text": [
            "<>:5: SyntaxWarning: 'float' object is not callable; perhaps you missed a comma?\n",
            "<>:7: SyntaxWarning: 'float' object is not callable; perhaps you missed a comma?\n",
            "<>:5: SyntaxWarning: 'float' object is not callable; perhaps you missed a comma?\n",
            "<>:7: SyntaxWarning: 'float' object is not callable; perhaps you missed a comma?\n",
            "<ipython-input-1-8887e68e2537>:5: SyntaxWarning: 'float' object is not callable; perhaps you missed a comma?\n",
            "  return x*3 - 2.(x**2) - 5.\n",
            "<ipython-input-1-8887e68e2537>:7: SyntaxWarning: 'float' object is not callable; perhaps you missed a comma?\n",
            "  return x*3 + 3.(x**2) - 1.\n"
          ]
        },
        {
          "output_type": "error",
          "ename": "KeyboardInterrupt",
          "evalue": "ignored",
          "traceback": [
            "\u001b[0;31m---------------------------------------------------------------------------\u001b[0m",
            "\u001b[0;31mKeyboardInterrupt\u001b[0m                         Traceback (most recent call last)",
            "\u001b[0;32m<ipython-input-1-8887e68e2537>\u001b[0m in \u001b[0;36m<module>\u001b[0;34m\u001b[0m\n\u001b[1;32m     37\u001b[0m \u001b[0mmaxiter\u001b[0m \u001b[0;34m=\u001b[0m \u001b[0;36m1000\u001b[0m\u001b[0;34m\u001b[0m\u001b[0;34m\u001b[0m\u001b[0m\n\u001b[1;32m     38\u001b[0m \u001b[0;34m\u001b[0m\u001b[0m\n\u001b[0;32m---> 39\u001b[0;31m \u001b[0mmetodo\u001b[0m \u001b[0;34m=\u001b[0m \u001b[0mint\u001b[0m\u001b[0;34m(\u001b[0m\u001b[0minput\u001b[0m\u001b[0;34m(\u001b[0m\u001b[0;34m\"Elija el metodo a usar (1, 2 o 3): \"\u001b[0m\u001b[0;34m)\u001b[0m\u001b[0;34m)\u001b[0m\u001b[0;34m\u001b[0m\u001b[0;34m\u001b[0m\u001b[0m\n\u001b[0m\u001b[1;32m     40\u001b[0m \u001b[0;34m\u001b[0m\u001b[0m\n\u001b[1;32m     41\u001b[0m \u001b[0;32mif\u001b[0m \u001b[0mmetodo\u001b[0m \u001b[0;34m==\u001b[0m \u001b[0;36m1\u001b[0m\u001b[0;34m:\u001b[0m\u001b[0;34m\u001b[0m\u001b[0;34m\u001b[0m\u001b[0m\n",
            "\u001b[0;32m/usr/local/lib/python3.9/dist-packages/ipykernel/kernelbase.py\u001b[0m in \u001b[0;36mraw_input\u001b[0;34m(self, prompt)\u001b[0m\n\u001b[1;32m    858\u001b[0m                 \u001b[0;34m\"raw_input was called, but this frontend does not support input requests.\"\u001b[0m\u001b[0;34m\u001b[0m\u001b[0;34m\u001b[0m\u001b[0m\n\u001b[1;32m    859\u001b[0m             )\n\u001b[0;32m--> 860\u001b[0;31m         return self._input_request(str(prompt),\n\u001b[0m\u001b[1;32m    861\u001b[0m             \u001b[0mself\u001b[0m\u001b[0;34m.\u001b[0m\u001b[0m_parent_ident\u001b[0m\u001b[0;34m,\u001b[0m\u001b[0;34m\u001b[0m\u001b[0;34m\u001b[0m\u001b[0m\n\u001b[1;32m    862\u001b[0m             \u001b[0mself\u001b[0m\u001b[0;34m.\u001b[0m\u001b[0m_parent_header\u001b[0m\u001b[0;34m,\u001b[0m\u001b[0;34m\u001b[0m\u001b[0;34m\u001b[0m\u001b[0m\n",
            "\u001b[0;32m/usr/local/lib/python3.9/dist-packages/ipykernel/kernelbase.py\u001b[0m in \u001b[0;36m_input_request\u001b[0;34m(self, prompt, ident, parent, password)\u001b[0m\n\u001b[1;32m    902\u001b[0m             \u001b[0;32mexcept\u001b[0m \u001b[0mKeyboardInterrupt\u001b[0m\u001b[0;34m:\u001b[0m\u001b[0;34m\u001b[0m\u001b[0;34m\u001b[0m\u001b[0m\n\u001b[1;32m    903\u001b[0m                 \u001b[0;31m# re-raise KeyboardInterrupt, to truncate traceback\u001b[0m\u001b[0;34m\u001b[0m\u001b[0;34m\u001b[0m\u001b[0m\n\u001b[0;32m--> 904\u001b[0;31m                 \u001b[0;32mraise\u001b[0m \u001b[0mKeyboardInterrupt\u001b[0m\u001b[0;34m(\u001b[0m\u001b[0;34m\"Interrupted by user\"\u001b[0m\u001b[0;34m)\u001b[0m \u001b[0;32mfrom\u001b[0m \u001b[0;32mNone\u001b[0m\u001b[0;34m\u001b[0m\u001b[0;34m\u001b[0m\u001b[0m\n\u001b[0m\u001b[1;32m    905\u001b[0m             \u001b[0;32mexcept\u001b[0m \u001b[0mException\u001b[0m \u001b[0;32mas\u001b[0m \u001b[0me\u001b[0m\u001b[0;34m:\u001b[0m\u001b[0;34m\u001b[0m\u001b[0;34m\u001b[0m\u001b[0m\n\u001b[1;32m    906\u001b[0m                 \u001b[0mself\u001b[0m\u001b[0;34m.\u001b[0m\u001b[0mlog\u001b[0m\u001b[0;34m.\u001b[0m\u001b[0mwarning\u001b[0m\u001b[0;34m(\u001b[0m\u001b[0;34m\"Invalid Message:\"\u001b[0m\u001b[0;34m,\u001b[0m \u001b[0mexc_info\u001b[0m\u001b[0;34m=\u001b[0m\u001b[0;32mTrue\u001b[0m\u001b[0;34m)\u001b[0m\u001b[0;34m\u001b[0m\u001b[0;34m\u001b[0m\u001b[0m\n",
            "\u001b[0;31mKeyboardInterrupt\u001b[0m: Interrupted by user"
          ]
        }
      ],
      "source": [
        "import numpy as np\n",
        "#Definimos las funciones\n",
        "def f(x):\n",
        "    if ejercicio == 1:\n",
        "        return x*3 - 2.(x**2) - 5.\n",
        "    elif ejercicio == 2:\n",
        "        return x*3 + 3.(x**2) - 1.\n",
        "    elif ejercicio == 3:\n",
        "        return x - np.cos(x)\n",
        "    elif ejercicio == 4:\n",
        "        return x - 0.8 - 0.2*np.sin(x) \n",
        "\n",
        "def bisec(a,b,tol):\n",
        "    iter = 0\n",
        "    if np.abs(f(a)) <= tol:\n",
        "        return a,0,iter\n",
        "    elif np.abs(f(b)) <= tol:\n",
        "        return b,0,iter\n",
        "    elif f(a)*f(b) > 0.:\n",
        "        print(\"No hay raiz en el intervalo dado.\")\n",
        "    else:\n",
        "        p = (a + b) / 2.\n",
        "\n",
        "        while (iter <= maxiter and np.abs(f(p)) > tol):\n",
        "            iter = iter + 1 # iter += 1\n",
        "\n",
        "            if (f(a)*f(p) < 0):\n",
        "                b = p\n",
        "            else:\n",
        "                a = p\n",
        "            \n",
        "            p = (a + b) / 2.\n",
        "        \n",
        "        return p,np.abs(f(p)),iter\n",
        "    \n",
        "tol = 1e-4\n",
        "maxiter = 1000\n",
        "\n",
        "metodo = int(input(\"Elija el metodo a usar (1, 2 o 3): \"))\n",
        "\n",
        "if metodo == 1:\n",
        "    ejercicio = int(input(\"Elija el ejercicio a resolver (1, 2, 3 o 4):\"))\n",
        "\n",
        "    if ejercicio == 1:\n",
        "        a = 1\n",
        "        b = 4\n",
        "    elif ejercicio == 2:\n",
        "        a = -3\n",
        "        b = -2\n",
        "    raiz,error,iteraciones = bisec(a,b,tol)\n",
        "\n",
        "\n",
        "print(\"La raiz es: \",raiz)\n",
        "print(\"El error es: \",error)\n",
        "print(\"El numero de iteracines fue: \",iteraciones)"
      ]
    }
  ]
}